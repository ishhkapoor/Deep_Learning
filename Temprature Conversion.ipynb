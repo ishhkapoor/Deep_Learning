{
 "cells": [
  {
   "cell_type": "code",
   "execution_count": 3,
   "id": "3ed749a7",
   "metadata": {},
   "outputs": [
    {
     "name": "stdout",
     "output_type": "stream",
     "text": [
      "        optimizer  train_accuracy  val_accuracy  train_loss    val_loss\n",
      "Model_1      adam             0.0           0.0 -177.356735  -97.468269\n",
      "Model_2      adam             0.0           0.0 -444.612457 -334.550323\n",
      "Model_3      adam             0.0           0.0 -258.717957 -193.456131\n",
      "Model_4      adam             0.0           0.0 -403.364410 -349.727539\n",
      "1/1 [==============================] - 0s 51ms/step\n",
      "Predicted Value for Sample Input: [[1.]]\n"
     ]
    }
   ],
   "source": [
    "import pandas as pd\n",
    "from sklearn.model_selection import train_test_split\n",
    "import numpy as np\n",
    "from tensorflow.keras.models import Sequential\n",
    "from tensorflow.keras.layers import Dense\n",
    "from tensorflow.keras.optimizers import Adam\n",
    "\n",
    "# Load data from CSV file\n",
    "data = pd.read_csv(\"C:/Users/Dell/Desktop/Celsius to Fahrenheit.csv\")\n",
    "\n",
    "# Assuming the last column is the label, and rest are features\n",
    "X = data.iloc[:, :-1].values\n",
    "y = data.iloc[:, -1].values\n",
    "\n",
    "# Split data into training and validation sets\n",
    "X_train, X_val, y_train, y_val = train_test_split(X, y, test_size=0.2, random_state=42)\n",
    "\n",
    "def create_model(neurons_1, neurons_2, optimizer):\n",
    "    model = Sequential()\n",
    "    model.add(Dense(neurons_1, input_dim=X_train.shape[1], activation='relu'))\n",
    "    model.add(Dense(neurons_2, activation='relu'))\n",
    "    model.add(Dense(1, activation='sigmoid'))\n",
    "\n",
    "    model.compile(loss='binary_crossentropy', optimizer=optimizer, metrics=['accuracy'])\n",
    "    return model\n",
    "\n",
    "# Define different configurations\n",
    "configurations = [\n",
    "    (64, 64, 'adam'),\n",
    "    (128, 128, 'adam'),\n",
    "    (64, 128, 'adam'),\n",
    "    (128, 64, 'adam'),\n",
    "]\n",
    "\n",
    "# Store results in a dictionary\n",
    "results = {}\n",
    "\n",
    "# Train models and store results\n",
    "for i, (neurons_1, neurons_2, optimizer) in enumerate(configurations):\n",
    "    model = create_model(neurons_1, neurons_2, optimizer)\n",
    "    history = model.fit(X_train, y_train, epochs=10, batch_size=32, validation_data=(X_val, y_val), verbose=0)\n",
    "    results[f'Model_{i+1}'] = {\n",
    "        'optimizer': optimizer,\n",
    "        'train_accuracy': history.history['accuracy'][-1],\n",
    "        'val_accuracy': history.history['val_accuracy'][-1],\n",
    "        'train_loss': history.history['loss'][-1],\n",
    "        'val_loss': history.history['val_loss'][-1],\n",
    "    }\n",
    "\n",
    "# Display results in a table\n",
    "results_df = pd.DataFrame.from_dict(results, orient='index')\n",
    "print(results_df)\n",
    "\n",
    "# Predict one value using the first model\n",
    "sample_input = X_val[0].reshape(1, -1)\n",
    "predicted_value = model.predict(sample_input)\n",
    "print(f\"Predicted Value for Sample Input: {predicted_value}\")"
   ]
  },
  {
   "cell_type": "code",
   "execution_count": null,
   "id": "da599fff",
   "metadata": {},
   "outputs": [],
   "source": []
  }
 ],
 "metadata": {
  "kernelspec": {
   "display_name": "Python 3 (ipykernel)",
   "language": "python",
   "name": "python3"
  },
  "language_info": {
   "codemirror_mode": {
    "name": "ipython",
    "version": 3
   },
   "file_extension": ".py",
   "mimetype": "text/x-python",
   "name": "python",
   "nbconvert_exporter": "python",
   "pygments_lexer": "ipython3",
   "version": "3.9.13"
  }
 },
 "nbformat": 4,
 "nbformat_minor": 5
}
