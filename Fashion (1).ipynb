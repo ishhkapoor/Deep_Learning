{
 "cells": [
  {
   "cell_type": "code",
   "execution_count": null,
   "metadata": {
    "id": "Qn7gs4ehp_KJ"
   },
   "outputs": [],
   "source": [
    "import numpy as np\n",
    "import tensorflow as tf\n",
    "from tensorflow.keras import layers, models, datasets\n",
    "import matplotlib.pyplot as plt\n"
   ]
  },
  {
   "cell_type": "code",
   "execution_count": null,
   "metadata": {
    "colab": {
     "base_uri": "https://localhost:8080/"
    },
    "id": "3FL2oTsFqLsB",
    "outputId": "3d1f4ba8-a4d7-432a-9ebf-894ec470c5e6"
   },
   "outputs": [
    {
     "name": "stdout",
     "output_type": "stream",
     "text": [
      "Downloading data from https://storage.googleapis.com/tensorflow/tf-keras-datasets/train-labels-idx1-ubyte.gz\n",
      "29515/29515 [==============================] - 0s 0us/step\n",
      "Downloading data from https://storage.googleapis.com/tensorflow/tf-keras-datasets/train-images-idx3-ubyte.gz\n",
      "26421880/26421880 [==============================] - 0s 0us/step\n",
      "Downloading data from https://storage.googleapis.com/tensorflow/tf-keras-datasets/t10k-labels-idx1-ubyte.gz\n",
      "5148/5148 [==============================] - 0s 0us/step\n",
      "Downloading data from https://storage.googleapis.com/tensorflow/tf-keras-datasets/t10k-images-idx3-ubyte.gz\n",
      "4422102/4422102 [==============================] - 0s 0us/step\n"
     ]
    }
   ],
   "source": [
    "(train_images, train_labels), (test_images, test_labels) = datasets.fashion_mnist.load_data()"
   ]
  },
  {
   "cell_type": "code",
   "execution_count": null,
   "metadata": {
    "id": "W8j9jbf3qQaT"
   },
   "outputs": [],
   "source": [
    "train_images = train_images / 255.0\n",
    "test_images = test_images / 255.0\n"
   ]
  },
  {
   "cell_type": "code",
   "execution_count": null,
   "metadata": {
    "id": "6Y-bMmZBqW-4"
   },
   "outputs": [],
   "source": [
    "train_images = np.expand_dims(train_images, axis=-1)\n",
    "test_images = np.expand_dims(test_images, axis=-1)\n"
   ]
  },
  {
   "cell_type": "code",
   "execution_count": null,
   "metadata": {
    "id": "tMg3amATqdeu"
   },
   "outputs": [],
   "source": [
    "model = models.Sequential([\n",
    "    layers.Conv2D(32, (3, 3), activation='relu', input_shape=(28, 28, 1)),\n",
    "    layers.MaxPooling2D((2, 2)),\n",
    "    layers.Conv2D(64, (3, 3), activation='relu'),\n",
    "    layers.MaxPooling2D((2, 2)),\n",
    "    layers.Conv2D(64, (3, 3), activation='relu'),\n",
    "    layers.Flatten(),\n",
    "    layers.Dense(64, activation='relu'),\n",
    "    layers.Dense(10, activation='softmax')\n",
    "])"
   ]
  },
  {
   "cell_type": "code",
   "execution_count": null,
   "metadata": {
    "id": "Uz31N-YrqjOO"
   },
   "outputs": [],
   "source": [
    "model.compile(optimizer='adam',\n",
    "              loss='sparse_categorical_crossentropy',\n",
    "              metrics=['accuracy'])"
   ]
  },
  {
   "cell_type": "code",
   "execution_count": null,
   "metadata": {
    "colab": {
     "base_uri": "https://localhost:8080/"
    },
    "id": "7sxQaw4qqrhZ",
    "outputId": "ef4a2a42-e45f-43e4-823b-b5097dfbb4bc"
   },
   "outputs": [
    {
     "name": "stdout",
     "output_type": "stream",
     "text": [
      "Epoch 1/10\n",
      "750/750 [==============================] - 41s 53ms/step - loss: 0.5772 - accuracy: 0.7902 - val_loss: 0.3933 - val_accuracy: 0.8563\n",
      "Epoch 2/10\n",
      "750/750 [==============================] - 39s 52ms/step - loss: 0.3614 - accuracy: 0.8704 - val_loss: 0.3434 - val_accuracy: 0.8763\n",
      "Epoch 3/10\n",
      "750/750 [==============================] - 40s 54ms/step - loss: 0.3131 - accuracy: 0.8845 - val_loss: 0.3174 - val_accuracy: 0.8822\n",
      "Epoch 4/10\n",
      "750/750 [==============================] - 39s 52ms/step - loss: 0.2774 - accuracy: 0.8992 - val_loss: 0.2836 - val_accuracy: 0.8980\n",
      "Epoch 5/10\n",
      "750/750 [==============================] - 39s 52ms/step - loss: 0.2530 - accuracy: 0.9070 - val_loss: 0.2746 - val_accuracy: 0.9010\n",
      "Epoch 6/10\n",
      "750/750 [==============================] - 41s 55ms/step - loss: 0.2315 - accuracy: 0.9144 - val_loss: 0.2729 - val_accuracy: 0.9032\n",
      "Epoch 7/10\n",
      "750/750 [==============================] - 39s 52ms/step - loss: 0.2140 - accuracy: 0.9211 - val_loss: 0.2796 - val_accuracy: 0.9033\n",
      "Epoch 8/10\n",
      "750/750 [==============================] - 40s 53ms/step - loss: 0.1954 - accuracy: 0.9280 - val_loss: 0.2638 - val_accuracy: 0.9072\n",
      "Epoch 9/10\n",
      "750/750 [==============================] - 39s 52ms/step - loss: 0.1839 - accuracy: 0.9314 - val_loss: 0.2686 - val_accuracy: 0.9082\n",
      "Epoch 10/10\n",
      "750/750 [==============================] - 39s 52ms/step - loss: 0.1678 - accuracy: 0.9378 - val_loss: 0.2567 - val_accuracy: 0.9107\n"
     ]
    }
   ],
   "source": [
    "history = model.fit(train_images, train_labels, epochs=10, batch_size=64, validation_split=0.2)"
   ]
  },
  {
   "cell_type": "code",
   "execution_count": null,
   "metadata": {
    "colab": {
     "base_uri": "https://localhost:8080/"
    },
    "id": "Dv_FLk32sVsg",
    "outputId": "2c8712b2-40eb-4dab-d68a-c067ea87b518"
   },
   "outputs": [
    {
     "name": "stdout",
     "output_type": "stream",
     "text": [
      "313/313 [==============================] - 3s 8ms/step - loss: 0.2685 - accuracy: 0.9086\n",
      "Test accuracy: 0.9085999727249146\n"
     ]
    }
   ],
   "source": [
    "test_loss, test_acc = model.evaluate(test_images, test_labels)\n",
    "print('Test accuracy:', test_acc)"
   ]
  },
  {
   "cell_type": "code",
   "execution_count": null,
   "metadata": {
    "colab": {
     "base_uri": "https://localhost:8080/",
     "height": 449
    },
    "id": "avxTPNLNsbmS",
    "outputId": "01089323-d550-4b13-c332-e2d8a0ad8159"
   },
   "outputs": [
    {
     "data": {
      "image/png": "[encoded data removed]",
      "text/plain": [
       "<Figure size 640x480 with 1 Axes>"
      ]
     },
     "metadata": {},
     "output_type": "display_data"
    }
   ],
   "source": [
    "plt.plot(history.history['accuracy'], label='accuracy')\n",
    "plt.plot(history.history['val_accuracy'], label='val_accuracy')\n",
    "plt.xlabel('Epoch')\n",
    "plt.ylabel('Accuracy')\n",
    "plt.legend(loc='lower right')\n",
    "plt.show()"
   ]
  }
 ],
 "metadata": {
  "colab": {
   "provenance": []
  },
  "kernelspec": {
   "display_name": "Python 3 (ipykernel)",
   "language": "python",
   "name": "python3"
  },
  "language_info": {
   "codemirror_mode": {
    "name": "ipython",
    "version": 3
   },
   "file_extension": ".py",
   "mimetype": "text/x-python",
   "name": "python",
   "nbconvert_exporter": "python",
   "pygments_lexer": "ipython3",
   "version": "3.9.13"
  }
 },
 "nbformat": 4,
 "nbformat_minor": 1
}
